{
 "cells": [
  {
   "cell_type": "markdown",
   "id": "91971868",
   "metadata": {},
   "source": [
    "## Reproducerbarhet"
   ]
  },
  {
   "cell_type": "code",
   "execution_count": 1,
   "id": "7e673941",
   "metadata": {},
   "outputs": [
    {
     "name": "stdout",
     "output_type": "stream",
     "text": [
      "[ 3  6  9 12]\n"
     ]
    }
   ],
   "source": [
    "import numpy, pandas\n",
    "\n",
    "print(numpy.array([1, 2, 3, 4]) * 3)"
   ]
  }
 ],
 "metadata": {
  "kernelspec": {
   "display_name": ".venv",
   "language": "python",
   "name": "python3"
  },
  "language_info": {
   "codemirror_mode": {
    "name": "ipython",
    "version": 3
   },
   "file_extension": ".py",
   "mimetype": "text/x-python",
   "name": "python",
   "nbconvert_exporter": "python",
   "pygments_lexer": "ipython3",
   "version": "3.13.8"
  }
 },
 "nbformat": 4,
 "nbformat_minor": 5
}
